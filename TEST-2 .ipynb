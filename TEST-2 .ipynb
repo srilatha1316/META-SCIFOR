{
 "cells": [
  {
   "cell_type": "code",
   "execution_count": null,
   "id": "5e1a7e31",
   "metadata": {},
   "outputs": [],
   "source": [
    "Universal Input List \n",
    "You can use this list for most questions that require a list or numeric collection:\n",
    "\n",
    "numbers = [5, -2, 12, 7, 0, 33, -10, 8]\n",
    "words = [\"apple\", \"banana\", \"kiwi\", \"fig\", \"strawberry\", \"grape\"]"
   ]
  },
  {
   "cell_type": "markdown",
   "id": "028cb9f7",
   "metadata": {},
   "source": [
    "# Functions"
   ]
  },
  {
   "cell_type": "code",
   "execution_count": 1,
   "id": "91b6bb18",
   "metadata": {},
   "outputs": [
    {
     "name": "stdout",
     "output_type": "stream",
     "text": [
      "16\n"
     ]
    }
   ],
   "source": [
    "# 1. Function to return the square of a number\n",
    "def square_number(n):\n",
    "    return n * n\n",
    "print(square_number(4)) \n"
   ]
  },
  {
   "cell_type": "code",
   "execution_count": 2,
   "id": "58782587",
   "metadata": {},
   "outputs": [
    {
     "name": "stdout",
     "output_type": "stream",
     "text": [
      "20\n"
     ]
    }
   ],
   "source": [
    "# 2. Function to return the larger of two numbers\n",
    "def larger_number(a, b):\n",
    "    return a if a > b else b\n",
    "print(larger_number(10, 20))"
   ]
  },
  {
   "cell_type": "code",
   "execution_count": 3,
   "id": "0f5fb646",
   "metadata": {},
   "outputs": [
    {
     "name": "stdout",
     "output_type": "stream",
     "text": [
      "Welcome to AIML\n",
      "Welcome to AIML\n",
      "Welcome to AIML\n",
      "Welcome to AIML\n",
      "Welcome to AIML\n"
     ]
    }
   ],
   "source": [
    "def print_welcome():\n",
    "    for _ in range(5):\n",
    "        print(\"Welcome to AIML\")\n",
    "\n",
    "print_welcome()"
   ]
  },
  {
   "cell_type": "code",
   "execution_count": 4,
   "id": "3bc1abbb",
   "metadata": {},
   "outputs": [
    {
     "name": "stdout",
     "output_type": "stream",
     "text": [
      "Odd\n",
      "Even\n"
     ]
    }
   ],
   "source": [
    "def check_even_odd(n):\n",
    "    if n % 2 == 0:\n",
    "        return \"Even\"\n",
    "    else:\n",
    "        return \"Odd\"\n",
    "\n",
    "print(check_even_odd(7))  \n",
    "print(check_even_odd(8))"
   ]
  },
  {
   "cell_type": "code",
   "execution_count": 5,
   "id": "dccd48c7",
   "metadata": {},
   "outputs": [
    {
     "name": "stdout",
     "output_type": "stream",
     "text": [
      "53\n"
     ]
    }
   ],
   "source": [
    "def sum_of_list(lst):\n",
    "    return sum(lst)\n",
    "\n",
    "numbers = [5, -2, 12, 7, 0, 33, -10, 8]\n",
    "print(sum_of_list(numbers))"
   ]
  },
  {
   "cell_type": "markdown",
   "id": "0a957af4",
   "metadata": {},
   "source": [
    "# Loops "
   ]
  },
  {
   "cell_type": "code",
   "execution_count": 6,
   "id": "8d5b6899",
   "metadata": {},
   "outputs": [
    {
     "name": "stdout",
     "output_type": "stream",
     "text": [
      "Numbers from 1 to 10:\n",
      "1\n",
      "2\n",
      "3\n",
      "4\n",
      "5\n",
      "6\n",
      "7\n",
      "8\n",
      "9\n",
      "10\n"
     ]
    }
   ],
   "source": [
    "# 1. For loop to print numbers from 1 to 10\n",
    "print(\"Numbers from 1 to 10:\")\n",
    "for i in range(1, 11):\n",
    "    print(i)"
   ]
  },
  {
   "cell_type": "code",
   "execution_count": 7,
   "id": "cd172e8e",
   "metadata": {},
   "outputs": [
    {
     "name": "stdout",
     "output_type": "stream",
     "text": [
      "\n",
      "Even numbers between 1 and 20:\n",
      "2\n",
      "4\n",
      "6\n",
      "8\n",
      "10\n",
      "12\n",
      "14\n",
      "16\n",
      "18\n",
      "20\n"
     ]
    }
   ],
   "source": [
    "# 2. While loop to print all even numbers between 1 and 20\n",
    "print(\"\\nEven numbers between 1 and 20:\")\n",
    "i = 1\n",
    "while i <= 20:\n",
    "    if i % 2 == 0:\n",
    "        print(i)\n",
    "    i += 1"
   ]
  },
  {
   "cell_type": "code",
   "execution_count": 8,
   "id": "d06be871",
   "metadata": {},
   "outputs": [
    {
     "name": "stdout",
     "output_type": "stream",
     "text": [
      "\n",
      "Characters in the string:\n",
      "A\n",
      "r\n",
      "t\n",
      "i\n",
      "f\n",
      "i\n",
      "c\n",
      "i\n",
      "a\n",
      "l\n",
      " \n",
      "I\n",
      "n\n",
      "t\n",
      "e\n",
      "l\n",
      "l\n",
      "i\n",
      "g\n",
      "e\n",
      "n\n",
      "c\n",
      "e\n"
     ]
    }
   ],
   "source": [
    "# 3. Loop to print each character of a given string\n",
    "input_string = \"Artificial Intelligence\"\n",
    "print(\"\\nCharacters in the string:\")\n",
    "for char in input_string:\n",
    "    print(char)"
   ]
  },
  {
   "cell_type": "code",
   "execution_count": 9,
   "id": "0dddfaaf",
   "metadata": {},
   "outputs": [
    {
     "name": "stdout",
     "output_type": "stream",
     "text": [
      "\n",
      "Multiplication table of 5:\n",
      "5 x 1 = 5\n",
      "5 x 2 = 10\n",
      "5 x 3 = 15\n",
      "5 x 4 = 20\n",
      "5 x 5 = 25\n",
      "5 x 6 = 30\n",
      "5 x 7 = 35\n",
      "5 x 8 = 40\n",
      "5 x 9 = 45\n",
      "5 x 10 = 50\n"
     ]
    }
   ],
   "source": [
    "# 4. Loop that prints the multiplication table of 5\n",
    "print(\"\\nMultiplication table of 5:\")\n",
    "for i in range(1, 11):\n",
    "    print(f\"5 x {i} = {5 * i}\")"
   ]
  },
  {
   "cell_type": "code",
   "execution_count": 10,
   "id": "2f18a296",
   "metadata": {},
   "outputs": [
    {
     "name": "stdout",
     "output_type": "stream",
     "text": [
      "\n",
      "Positive numbers from the list:\n",
      "5\n",
      "12\n",
      "7\n",
      "33\n",
      "8\n"
     ]
    }
   ],
   "source": [
    "# 5. Loop that prints only the positive numbers from the list\n",
    "print(\"\\nPositive numbers from the list:\")\n",
    "for num in numbers:\n",
    "    if num > 0:\n",
    "        print(num)"
   ]
  },
  {
   "cell_type": "markdown",
   "id": "7335a43b",
   "metadata": {},
   "source": [
    "# Try and Except"
   ]
  },
  {
   "cell_type": "code",
   "execution_count": 11,
   "id": "6a8ef132",
   "metadata": {},
   "outputs": [
    {
     "name": "stdout",
     "output_type": "stream",
     "text": [
      "5.0\n"
     ]
    }
   ],
   "source": [
    "# 1. Function that divides two numbers with divide-by-zero handling\n",
    "def divide_numbers(a, b):\n",
    "    try:\n",
    "        result = a / b\n",
    "        return result\n",
    "    except ZeroDivisionError:\n",
    "        return \"Error: Cannot divide by zero.\"\n",
    "print(divide_numbers(10, 2)) "
   ]
  },
  {
   "cell_type": "code",
   "execution_count": null,
   "id": "a68b3b23",
   "metadata": {},
   "outputs": [],
   "source": [
    "# 2. Ask user for a number and handle non-numeric input\n",
    "\n",
    "try:\n",
    "    user_input = input(\"Enter a number: \")\n",
    "    number = float(user_input)\n",
    "    print(f\"You entered: {number}\")\n",
    "except ValueError:\n",
    "    print(\"Error: That is not a valid number.\")"
   ]
  },
  {
   "cell_type": "code",
   "execution_count": 12,
   "id": "4ad15de9",
   "metadata": {},
   "outputs": [
    {
     "name": "stdout",
     "output_type": "stream",
     "text": [
      "Error: The file 'example.txt' was not found.\n"
     ]
    }
   ],
   "source": [
    "#Open a file and print custom error if not found\n",
    "\n",
    "filename = \"example.txt\"\n",
    "\n",
    "try:\n",
    "    with open(filename, 'r') as file:\n",
    "        content = file.read()\n",
    "        print(content)\n",
    "except FileNotFoundError:\n",
    "    print(f\"Error: The file '{filename}' was not found.\")\n"
   ]
  },
  {
   "cell_type": "code",
   "execution_count": 13,
   "id": "d0ce1574",
   "metadata": {},
   "outputs": [
    {
     "name": "stdout",
     "output_type": "stream",
     "text": [
      "Error: Both inputs must be numbers.\n"
     ]
    }
   ],
   "source": [
    "#4. Add two numbers and raise an error if inputs are not numbers \n",
    "\n",
    "def add_numbers(a, b):\n",
    "    if not isinstance(a, (int, float)) or not isinstance(b, (int, float)):\n",
    "        raise TypeError(\"Both inputs must be numbers.\")\n",
    "    return a + b\n",
    "\n",
    "# Example usage\n",
    "try:\n",
    "    result = add_numbers(5, \"three\")\n",
    "    print(f\"Sum: {result}\")\n",
    "except TypeError as e:\n",
    "    print(f\"Error: {e}\")\n"
   ]
  },
  {
   "cell_type": "code",
   "execution_count": null,
   "id": "54294e23",
   "metadata": {},
   "outputs": [],
   "source": [
    "# 5. Read an integer from the user safely using try and except\n",
    "\n",
    "try:\n",
    "    user_input = input(\"Enter an integer: \")\n",
    "    number = int(user_input)\n",
    "    print(f\"You entered the integer: {number}\")\n",
    "except ValueError:\n",
    "    print(\"Error: That is not a valid integer.\")\n"
   ]
  },
  {
   "cell_type": "markdown",
   "id": "639106e0",
   "metadata": {},
   "source": [
    "# Lambda, Map, Filter"
   ]
  },
  {
   "cell_type": "code",
   "execution_count": 1,
   "id": "70850d4e",
   "metadata": {},
   "outputs": [
    {
     "name": "stdout",
     "output_type": "stream",
     "text": [
      "15\n"
     ]
    }
   ],
   "source": [
    "add_10 = lambda x: x + 10\n",
    "\n",
    "# Example usage\n",
    "print(add_10(5))  # Output: 15\n"
   ]
  },
  {
   "cell_type": "code",
   "execution_count": 2,
   "id": "cac52503",
   "metadata": {},
   "outputs": [
    {
     "name": "stdout",
     "output_type": "stream",
     "text": [
      "[25, 4, 144, 49, 0, 1089, 100, 64]\n"
     ]
    }
   ],
   "source": [
    "numbers = [5, -2, 12, 7, 0, 33, -10, 8]\n",
    "\n",
    "squared_numbers = list(map(lambda x: x**2, numbers))\n",
    "print(squared_numbers)  # Output: [25, 4, 144, 49, 0, 1089, 100, 64]\n"
   ]
  },
  {
   "cell_type": "code",
   "execution_count": 3,
   "id": "e1a07d0f",
   "metadata": {},
   "outputs": [
    {
     "name": "stdout",
     "output_type": "stream",
     "text": [
      "[-2, 12, 0, -10, 8]\n"
     ]
    }
   ],
   "source": [
    "numbers = [5, -2, 12, 7, 0, 33, -10, 8]\n",
    "\n",
    "even_numbers = list(filter(lambda x: x % 2 == 0, numbers))\n",
    "print(even_numbers)  # Output: [-2, 12, 0, -10, 8]\n"
   ]
  },
  {
   "cell_type": "code",
   "execution_count": 4,
   "id": "ebed7b95",
   "metadata": {},
   "outputs": [
    {
     "name": "stdout",
     "output_type": "stream",
     "text": [
      "['APPLE', 'BANANA', 'KIWI', 'FIG', 'STRAWBERRY', 'GRAPE']\n"
     ]
    }
   ],
   "source": [
    "words = [\"apple\", \"banana\", \"kiwi\", \"fig\", \"strawberry\", \"grape\"]\n",
    "\n",
    "uppercase_words = list(map(lambda x: x.upper(), words))\n",
    "print(uppercase_words)  # Output: ['APPLE', 'BANANA', 'KIWI', 'FIG', 'STRAWBERRY', 'GRAPE']\n"
   ]
  },
  {
   "cell_type": "code",
   "execution_count": 5,
   "id": "804bdf58",
   "metadata": {},
   "outputs": [
    {
     "name": "stdout",
     "output_type": "stream",
     "text": [
      "[]\n"
     ]
    }
   ],
   "source": [
    "numbers = [5, -2, 12, 7, 0, 33, -10, 8]\n",
    "\n",
    "greater_than_50 = list(filter(lambda x: x > 50, numbers))\n",
    "print(greater_than_50)  # Output: []\n"
   ]
  },
  {
   "cell_type": "markdown",
   "id": "ab3b0088",
   "metadata": {},
   "source": [
    "# Variables"
   ]
  },
  {
   "cell_type": "code",
   "execution_count": 6,
   "id": "094011bd",
   "metadata": {},
   "outputs": [
    {
     "name": "stdout",
     "output_type": "stream",
     "text": [
      "Inside function, count = 1\n",
      "Outside function, count = 1\n"
     ]
    }
   ],
   "source": [
    "count = 0  # global variable\n",
    "\n",
    "def increment():\n",
    "    global count\n",
    "    count += 1\n",
    "    print(\"Inside function, count =\", count)\n",
    "\n",
    "increment()\n",
    "print(\"Outside function, count =\", count)\n"
   ]
  },
  {
   "cell_type": "code",
   "execution_count": 7,
   "id": "c9a70de0",
   "metadata": {},
   "outputs": [
    {
     "name": "stdout",
     "output_type": "stream",
     "text": [
      "Inside function, value = 50\n",
      "Outside function, value = 100\n"
     ]
    }
   ],
   "source": [
    "value = 100  # global variable\n",
    "\n",
    "def demo():\n",
    "    value = 50  # local variable\n",
    "    print(\"Inside function, value =\", value)\n",
    "\n",
    "demo()\n",
    "print(\"Outside function, value =\", value)\n"
   ]
  },
  {
   "cell_type": "code",
   "execution_count": 8,
   "id": "d1d93360",
   "metadata": {},
   "outputs": [
    {
     "name": "stdout",
     "output_type": "stream",
     "text": [
      "Modified total inside function = 63\n",
      "Modified total outside function = 63\n"
     ]
    }
   ],
   "source": [
    "total = sum(numbers)  # global variable\n",
    "\n",
    "def modify_total():\n",
    "    global total\n",
    "    total += 10\n",
    "    print(\"Modified total inside function =\", total)\n",
    "\n",
    "modify_total()\n",
    "print(\"Modified total outside function =\", total)\n"
   ]
  },
  {
   "cell_type": "code",
   "execution_count": 9,
   "id": "4d466ab1",
   "metadata": {},
   "outputs": [
    {
     "name": "stdout",
     "output_type": "stream",
     "text": [
      "Local word inside function: pineapple\n",
      "Global word inside function: orange\n"
     ]
    }
   ],
   "source": [
    "global_word = \"orange\"\n",
    "\n",
    "def set_local_word():\n",
    "    local_word = \"pineapple\"\n",
    "    print(\"Local word inside function:\", local_word)\n",
    "\n",
    "def print_global_word():\n",
    "    print(\"Global word inside function:\", global_word)\n",
    "\n",
    "set_local_word()\n",
    "print_global_word()\n"
   ]
  },
  {
   "cell_type": "code",
   "execution_count": 10,
   "id": "64869486",
   "metadata": {},
   "outputs": [
    {
     "name": "stdout",
     "output_type": "stream",
     "text": [
      "Inside function: This is local\n"
     ]
    }
   ],
   "source": [
    "def create_variable():\n",
    "    internal_value = \"This is local\"\n",
    "    print(\"Inside function:\", internal_value)\n",
    "\n",
    "create_variable()\n",
    "\n",
    "# This will cause an error if uncommented, because internal_value is not in global scope\n",
    "# print(\"Outside function:\", internal_value)  # Uncommenting this will raise NameError\n"
   ]
  },
  {
   "cell_type": "code",
   "execution_count": null,
   "id": "06d8887a",
   "metadata": {},
   "outputs": [],
   "source": []
  }
 ],
 "metadata": {
  "kernelspec": {
   "display_name": "Python 3 (ipykernel)",
   "language": "python",
   "name": "python3"
  },
  "language_info": {
   "codemirror_mode": {
    "name": "ipython",
    "version": 3
   },
   "file_extension": ".py",
   "mimetype": "text/x-python",
   "name": "python",
   "nbconvert_exporter": "python",
   "pygments_lexer": "ipython3",
   "version": "3.12.7"
  }
 },
 "nbformat": 4,
 "nbformat_minor": 5
}
