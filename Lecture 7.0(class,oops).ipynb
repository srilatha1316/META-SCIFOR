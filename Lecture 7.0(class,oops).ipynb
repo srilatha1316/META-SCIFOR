{
 "cells": [
  {
   "cell_type": "code",
   "execution_count": 1,
   "id": "4e820088-dc81-4343-bffb-140afac3d45b",
   "metadata": {},
   "outputs": [],
   "source": [
    "# What is Object Oriented Programming ? Solving a problem by  creating objects is one of the most \n",
    "# populer approaches in programming this is call object oriented programming.\n",
    "\n",
    "# Real Time Example -Imagine you are opening a bank account and you fill the most of your personel \n",
    "# information .Age,UserName,City,phone number gmail id etc.\n",
    "# Once you fill all your information and it will register with  bank whwnever you want to check your\n",
    "# personel informationyou click on personel tab,your name,last_name,account number city etc will be\n",
    "# displayed\n",
    "\n",
    "#whenever you want to deposit or withdrawl money you click other tabs.\n"
   ]
  },
  {
   "cell_type": "raw",
   "id": "1ec43a5c-d3b7-4aa6-94a6-8dd661313279",
   "metadata": {},
   "source": [
    "self:\n",
    "In Python classes, self is a special parameter that refers to the current object instance itself. When you define methods within a class, self is implicitly passed as the first argument to those methods. Inside a method, you use self to access and modify the attributes (variables) of the specific object instance. init (constructor):\n",
    "\n",
    "init is a special method in Python classes that acts as the constructor.\n",
    "It's automatically called whenever you create a new instance (object) of the class. Its purpose is to initialize the object's attributes with starting values. By convention, it's named init with two underscores at the beginning and end.\n",
    "\n",
    "Simple Terms\n",
    "Imagine you're building a house (the class). A house has different rooms and features (the attributes). But when you build a new house, it's empty, right? You need to put furniture (values) in those rooms.\n",
    "\n",
    "self: This is like the blueprint for each house you build. It tells you which rooms there are (attributes) but doesn't say what's inside yet. When you actually build a house (create an object), self becomes like the house itself, allowing you to access its specific rooms.\n",
    "\n",
    "init: This is like the moving truck. When you build a new house, the moving truck (the init method) delivers furniture (values) and puts them in the corresponding rooms (attributes) of that specific house (object)."
   ]
  },
  {
   "cell_type": "code",
   "execution_count": null,
   "id": "d0f1d3bd-1408-4a03-96c1-fc3cda3a38a3",
   "metadata": {},
   "outputs": [],
   "source": [
    "# Bank Account is your class\n",
    "# __init__(self) will register your details with bank\n",
    "# self will help you to get your respective details back when you click various tab.\n",
    "# log in personel information and password chnage, withdrwl are methods. "
   ]
  },
  {
   "cell_type": "code",
   "execution_count": null,
   "id": "d31bfe8c-405e-410f-8050-62af42de7e28",
   "metadata": {},
   "outputs": [],
   "source": [
    "\n",
    "# How to define a class - suppose we want to create a class , named person as a prototype a sort of \n",
    "# template for any number of \"person\" object (instances)\n",
    "\n",
    "# The following python syntax define a class\n",
    "# class ClassName(base_class):\n",
    "#          statements\n",
    "\n",
    "\n",
    "#Remember one thing class name should always be in uppercase (its nameing convention)\n"
   ]
  },
  {
   "cell_type": "code",
   "execution_count": null,
   "id": "65478524-2add-4dee-87aa-40e71cac5a9d",
   "metadata": {},
   "outputs": [],
   "source": [
    "# What is __init__(self)? is a constructor initialize your details with google.\n",
    "\n",
    "#Lets see with example."
   ]
  },
  {
   "cell_type": "code",
   "execution_count": 2,
   "id": "a5d6f9ba-b146-4008-8fa5-b5ebc20b522b",
   "metadata": {},
   "outputs": [],
   "source": [
    "class Account:\n",
    "    def __init__(self,name,last_name,city,user_id,password,phone): #attribute/arguments\n",
    "        self.name=name\n",
    "        self.last_name=last_name\n",
    "        self.city=city\n",
    "        self.user_id=user_id\n",
    "        self.password=password\n",
    "        self.phone=phone\n",
    "    def show_details(self):\n",
    "        print(self.name,self.last_name)\n"
   ]
  },
  {
   "cell_type": "code",
   "execution_count": 3,
   "id": "84832486-b127-4465-b70e-bfb3768f30ac",
   "metadata": {},
   "outputs": [],
   "source": [
    "\n",
    "a=Account(\"srilatha\",\"yadav\",\"hyd\",\"hyd1\",223344,6666)\n"
   ]
  },
  {
   "cell_type": "code",
   "execution_count": 4,
   "id": "9115f811-827f-4913-a957-94a1a265882b",
   "metadata": {},
   "outputs": [
    {
     "name": "stdout",
     "output_type": "stream",
     "text": [
      "srilatha yadav\n"
     ]
    }
   ],
   "source": [
    "\n",
    "a.show_details()\n"
   ]
  },
  {
   "cell_type": "code",
   "execution_count": null,
   "id": "009cea5d-0e29-42fd-855f-3be1e4cf5d48",
   "metadata": {},
   "outputs": [],
   "source": [
    "\n",
    "\n",
    "#Lets see with real time example:\n",
    "\n"
   ]
  },
  {
   "cell_type": "code",
   "execution_count": 5,
   "id": "6711d7bf-2c76-4195-b293-a50053f72cc8",
   "metadata": {},
   "outputs": [
    {
     "name": "stdin",
     "output_type": "stream",
     "text": [
      "Enter Your Name  srilatha\n",
      "Enter Your Last Name  yadav\n",
      "Enter Your City Name  hyd\n",
      "Enter Your User Id  hyd1\n",
      "Enter Your Password  223344\n",
      "Enter Your Number  6666\n"
     ]
    }
   ],
   "source": [
    "\n",
    "\n",
    "class Account:    #This is a class\n",
    "    def __init__(self,name=input(\"Enter Your Name \"),\n",
    "                last_name=input(\"Enter Your Last Name \"),\n",
    "                city=input(\"Enter Your City Name \"),\n",
    "                user_id=input(\"Enter Your User Id \"),\n",
    "                password=input(\"Enter Your Password \"),\n",
    "                phone=input(\"Enter Your Number \")):\n",
    "        self.name=name    #Data Initialization\n",
    "        self.last_name=last_name\n",
    "        self.city=city\n",
    "        self.user_id=user_id\n",
    "        self.password=password\n",
    "        self.phone=phone\n",
    "    def login(self):\n",
    "         while True:\n",
    "            user_ids=input(\" Enter Your User ID\")\n",
    "            passwords=input(\"Enter your password\")\n",
    "\n",
    "            if user_ids==self.user_id and self.password==passwords:\n",
    "                print(\"Login Sucessfully \")\n",
    "                break\n",
    "            else:\n",
    "                print(\"You have entered Wrong password and id\")\n",
    "                continue\n",
    "\n"
   ]
  },
  {
   "cell_type": "code",
   "execution_count": 6,
   "id": "16a5a505-20d4-4246-8976-88f4ad6ed4b7",
   "metadata": {},
   "outputs": [],
   "source": [
    "\n",
    "\n",
    "c=Account()\n"
   ]
  },
  {
   "cell_type": "code",
   "execution_count": 7,
   "id": "cbf0b273-c419-40d3-939d-e5cbb5933109",
   "metadata": {},
   "outputs": [
    {
     "name": "stdin",
     "output_type": "stream",
     "text": [
      " Enter Your User ID hyd1\n",
      "Enter your password 223344\n"
     ]
    },
    {
     "name": "stdout",
     "output_type": "stream",
     "text": [
      "Login Sucessfully \n"
     ]
    }
   ],
   "source": [
    "\n",
    "c.login()\n"
   ]
  },
  {
   "cell_type": "code",
   "execution_count": null,
   "id": "df32eb3c-d0ec-49c6-ab97-cd021575f8b8",
   "metadata": {},
   "outputs": [],
   "source": [
    "\n",
    "#Inheritance -Inheritance is a way of creating a new class from an existing class.\n",
    "#There are Three Types Of Inheritance - 1 -Single Inheritance , 2 -Multi Inheritance ,3-Multilevel Inheritance\n",
    "\n",
    "#Lets see with example how to inherits a class from existing class.\n"
   ]
  },
  {
   "cell_type": "raw",
   "id": "da836c09-0322-487c-9b21-8ad70614a3b2",
   "metadata": {},
   "source": [
    "The User_Account class inherits from the Account class. This means that the User_Account class will have all the properties and methods of the Account class, plus any additional properties and methods that you define in the User_Account class.\n",
    "\n",
    "The init method is the constructor method of a class. It is called when a new instance of the class is created. The super() function is used in the init method of the User_Account class to call the init method of the parent class (Account). This ensures that the initialization process of the parent class is run before the initialization process of the child class.\n",
    "\n",
    "The account_number and balance attributes are used to store the account number and balance of a user account. These attributes are defined in the init method of the User_Account class"
   ]
  },
  {
   "cell_type": "code",
   "execution_count": 8,
   "id": "78d89196-8fe9-449c-ae2c-d1bb54b4d976",
   "metadata": {},
   "outputs": [],
   "source": [
    "\n",
    "class User_Account(Account):\n",
    "    def __init__(self,account_number,balance,*args):\n",
    "        super(User_Account,self).__init__(*args)\n",
    "        self.account_number=account_number\n",
    "        self.balance=balance\n",
    "            \n",
    "    def user_details(self):\n",
    "        while True:\n",
    "            account=int(input(\"Enter Your Account Number\"))\n",
    "            if account==self.account_number:\n",
    "                print(\"Name =\", self.name)\n",
    "                print(\"Account Number =\",self.account_number)\n",
    "                print(\"Balance =\",self.balance )\n",
    "                break\n",
    "            else:\n",
    "                print(\"Account Number is not valid\")\n",
    "                continue\n",
    "    def deposit(self):\n",
    "        print(\"Your Previous Balance is\",self.balance)\n",
    "        add_cash=int(input(\"Enter Ammount\"))\n",
    "        self.balance= self.balance+add_cash\n",
    "        print(\"Your account credit with\",add_cash, \"and now your balace is\" ,self.balance)\n",
    "    def transfer(self):\n",
    "        print(\"Your Previous Balance is\",self.balance)\n",
    "        withdrawl=int(input(\"Enter How much you want to withdraw\"))\n",
    "        if withdrawl<=self.balance:\n",
    "            self.balance-=withdrawl\n",
    "            print(\"The Withdraws ammount is\",self.account_number,\"and you left balance is \" ,self.balance)\n",
    "            \n",
    "        else:\n",
    "            print(\"Alert:Hello You Dont have sufficient Balance to withdra\")\n",
    "\n",
    "            "
   ]
  },
  {
   "cell_type": "code",
   "execution_count": 9,
   "id": "82817451-2b94-4d2d-bff7-d327177f443d",
   "metadata": {},
   "outputs": [],
   "source": [
    "\n",
    "\n",
    "bank=User_Account(2222,7)\n",
    "\n"
   ]
  },
  {
   "cell_type": "code",
   "execution_count": 10,
   "id": "b57e9622-84af-42fe-8466-04cfa2947cad",
   "metadata": {},
   "outputs": [
    {
     "name": "stdin",
     "output_type": "stream",
     "text": [
      " Enter Your User ID hyd1\n",
      "Enter your password 223344\n"
     ]
    },
    {
     "name": "stdout",
     "output_type": "stream",
     "text": [
      "Login Sucessfully \n"
     ]
    }
   ],
   "source": [
    "\n",
    "bank.login()\n"
   ]
  },
  {
   "cell_type": "code",
   "execution_count": 12,
   "id": "522b8e69-5eb3-42ca-87ac-762f78717cd2",
   "metadata": {},
   "outputs": [
    {
     "name": "stdin",
     "output_type": "stream",
     "text": [
      "Enter Your Account Number 2222\n"
     ]
    },
    {
     "name": "stdout",
     "output_type": "stream",
     "text": [
      "Name = srilatha\n",
      "Account Number = 2222\n",
      "Balance = 7\n"
     ]
    }
   ],
   "source": [
    "\n",
    "\n",
    "bank.user_details()\n"
   ]
  },
  {
   "cell_type": "code",
   "execution_count": 13,
   "id": "10b444f2-b4c5-4812-a9f8-cdd437ad1c34",
   "metadata": {},
   "outputs": [
    {
     "name": "stdout",
     "output_type": "stream",
     "text": [
      "Your Previous Balance is 7\n"
     ]
    },
    {
     "name": "stdin",
     "output_type": "stream",
     "text": [
      "Enter Ammount 6\n"
     ]
    },
    {
     "name": "stdout",
     "output_type": "stream",
     "text": [
      "Your account credit with 6 and now your balace is 13\n"
     ]
    }
   ],
   "source": [
    "\n",
    "bank.deposit()\n"
   ]
  },
  {
   "cell_type": "code",
   "execution_count": null,
   "id": "63dac70c-aea5-442f-a8ac-709b36bf7790",
   "metadata": {},
   "outputs": [],
   "source": [
    "\n",
    "bank.transfer()"
   ]
  }
 ],
 "metadata": {
  "kernelspec": {
   "display_name": "Python 3 (ipykernel)",
   "language": "python",
   "name": "python3"
  },
  "language_info": {
   "codemirror_mode": {
    "name": "ipython",
    "version": 3
   },
   "file_extension": ".py",
   "mimetype": "text/x-python",
   "name": "python",
   "nbconvert_exporter": "python",
   "pygments_lexer": "ipython3",
   "version": "3.12.7"
  }
 },
 "nbformat": 4,
 "nbformat_minor": 5
}
