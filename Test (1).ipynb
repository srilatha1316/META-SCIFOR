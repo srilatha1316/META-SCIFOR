{
 "cells": [
  {
   "cell_type": "markdown",
   "id": "f630d84a-0169-4b58-baf8-0ef02373fa8e",
   "metadata": {},
   "source": [
    "#List"
   ]
  },
  {
   "cell_type": "code",
   "execution_count": 1,
   "id": "f759257b-a868-4565-885a-505572447b9c",
   "metadata": {},
   "outputs": [],
   "source": [
    "fruits = []"
   ]
  },
  {
   "cell_type": "code",
   "execution_count": 2,
   "id": "e8826821-833d-4167-8d44-74801e8ff0a8",
   "metadata": {},
   "outputs": [],
   "source": [
    "fruits.append(\"apple\")"
   ]
  },
  {
   "cell_type": "code",
   "execution_count": 3,
   "id": "28718848-d40b-4599-8c2a-b7e8889516c7",
   "metadata": {},
   "outputs": [],
   "source": [
    "fruits.extend([\"banana\", \"cherry\"])"
   ]
  },
  {
   "cell_type": "code",
   "execution_count": 4,
   "id": "cf94a88b-7914-4331-988c-90f367a67e4a",
   "metadata": {},
   "outputs": [],
   "source": [
    "fruits.remove(\"banana\")"
   ]
  },
  {
   "cell_type": "code",
   "execution_count": 5,
   "id": "63c530f6-e306-4b16-adda-4bebb520e1d3",
   "metadata": {},
   "outputs": [
    {
     "data": {
      "text/plain": [
       "'cherry'"
      ]
     },
     "execution_count": 5,
     "metadata": {},
     "output_type": "execute_result"
    }
   ],
   "source": [
    "fruits.pop()"
   ]
  },
  {
   "cell_type": "code",
   "execution_count": 6,
   "id": "9bcaed09-c87f-45fd-8e0f-f68ed6e2045c",
   "metadata": {},
   "outputs": [],
   "source": [
    "fruits.reverse()"
   ]
  },
  {
   "cell_type": "code",
   "execution_count": 7,
   "id": "c6b95790-71bf-4afc-a1e3-11d6b8fb47fe",
   "metadata": {},
   "outputs": [],
   "source": [
    "fruits.insert(1, \"mango\")"
   ]
  },
  {
   "cell_type": "code",
   "execution_count": 8,
   "id": "8bc18551-cd19-4242-9f10-83f6b106a43d",
   "metadata": {},
   "outputs": [
    {
     "name": "stdout",
     "output_type": "stream",
     "text": [
      "Elements from index 2 to 4: []\n"
     ]
    }
   ],
   "source": [
    "print(\"Elements from index 2 to 4:\", fruits[2:5])"
   ]
  },
  {
   "cell_type": "code",
   "execution_count": 9,
   "id": "ec5f9ef2-ce92-4d48-9ffc-50965bec1d6e",
   "metadata": {},
   "outputs": [],
   "source": [
    "numbers = [1, 2, 3, 4, 5]"
   ]
  },
  {
   "cell_type": "code",
   "execution_count": 10,
   "id": "bda83c6b-aec6-4a47-96fc-712e7b29317c",
   "metadata": {},
   "outputs": [
    {
     "name": "stdout",
     "output_type": "stream",
     "text": [
      "First number: 1\n",
      "Last number: 5\n"
     ]
    }
   ],
   "source": [
    "print(\"First number:\", numbers[0])\n",
    "print(\"Last number:\", numbers[-1])"
   ]
  },
  {
   "cell_type": "code",
   "execution_count": 11,
   "id": "3dbbbd0a-d646-4444-9276-2a737fb6b678",
   "metadata": {},
   "outputs": [],
   "source": [
    "numbers[2] = 10"
   ]
  },
  {
   "cell_type": "code",
   "execution_count": 12,
   "id": "e7e6a5d1-a412-408f-86d0-59918c77daf3",
   "metadata": {},
   "outputs": [
    {
     "name": "stdout",
     "output_type": "stream",
     "text": [
      "Grape is not in the list.\n"
     ]
    }
   ],
   "source": [
    "if \"grape\" in fruits:\n",
    "    print(\"Grape is in the list.\")\n",
    "else:\n",
    "    print(\"Grape is not in the list.\")"
   ]
  },
  {
   "cell_type": "code",
   "execution_count": 13,
   "id": "b0372e00-86a5-405b-b3ac-3f1943e77360",
   "metadata": {},
   "outputs": [
    {
     "name": "stdout",
     "output_type": "stream",
     "text": [
      "Fruits list:\n",
      "apple\n",
      "mango\n"
     ]
    }
   ],
   "source": [
    "print(\"Fruits list:\")\n",
    "for fruit in fruits:\n",
    "    print(fruit)"
   ]
  },
  {
   "cell_type": "code",
   "execution_count": 14,
   "id": "239b3742-d93e-4504-aec5-3881c9e7110f",
   "metadata": {},
   "outputs": [
    {
     "name": "stdout",
     "output_type": "stream",
     "text": [
      "Number of fruits: 2\n"
     ]
    }
   ],
   "source": [
    "print(\"Number of fruits:\", len(fruits))"
   ]
  },
  {
   "cell_type": "code",
   "execution_count": null,
   "id": "6950bf38-de0d-4728-9fdc-d9b4cc3898d5",
   "metadata": {},
   "outputs": [],
   "source": []
  },
  {
   "cell_type": "code",
   "execution_count": null,
   "id": "b5364933-5483-4483-924e-ee17c3823f33",
   "metadata": {},
   "outputs": [],
   "source": [
    "Tuple"
   ]
  },
  {
   "cell_type": "code",
   "execution_count": 15,
   "id": "99691461-66a7-471d-9fbc-14912ba76c27",
   "metadata": {},
   "outputs": [],
   "source": [
    "numbers = (1, 2, 3, 2, 4, 2)"
   ]
  },
  {
   "cell_type": "code",
   "execution_count": 16,
   "id": "6072ad74-b0fb-4bc3-9b5a-4944bcda0e11",
   "metadata": {},
   "outputs": [
    {
     "name": "stdout",
     "output_type": "stream",
     "text": [
      "Count of 2: 3\n"
     ]
    }
   ],
   "source": [
    "count_of_2 = numbers.count(2)\n",
    "print(\"Count of 2:\", count_of_2)"
   ]
  },
  {
   "cell_type": "code",
   "execution_count": 17,
   "id": "e33d1dc9-7ee6-4cc7-8820-5db72bf0af31",
   "metadata": {},
   "outputs": [
    {
     "name": "stdout",
     "output_type": "stream",
     "text": [
      "Index of 4: 4\n"
     ]
    }
   ],
   "source": [
    "index_of_4 = numbers.index(4)\n",
    "print(\"Index of 4:\", index_of_4)"
   ]
  },
  {
   "cell_type": "code",
   "execution_count": 18,
   "id": "de6eff14-ea36-4a80-b69b-ab5032806e58",
   "metadata": {},
   "outputs": [
    {
     "name": "stdout",
     "output_type": "stream",
     "text": [
      "Updated tuple: (1, 2, 3, 2, 4, 2, 5)\n"
     ]
    }
   ],
   "source": [
    "temp_list = list(numbers)\n",
    "temp_list.append(5)\n",
    "numbers = tuple(temp_list)\n",
    "print(\"Updated tuple:\", numbers)"
   ]
  },
  {
   "cell_type": "code",
   "execution_count": 19,
   "id": "cdea63b6-8b72-4a1e-a154-0ea2a1e0844d",
   "metadata": {},
   "outputs": [],
   "source": [
    "colors = (\"red\", \"green\", \"blue\")"
   ]
  },
  {
   "cell_type": "code",
   "execution_count": 3,
   "id": "f0e9361a-3d83-4186-b9df-c2ee6199c549",
   "metadata": {},
   "outputs": [
    {
     "ename": "NameError",
     "evalue": "name 'colors' is not defined",
     "output_type": "error",
     "traceback": [
      "\u001b[1;31m---------------------------------------------------------------------------\u001b[0m",
      "\u001b[1;31mNameError\u001b[0m                                 Traceback (most recent call last)",
      "Cell \u001b[1;32mIn[3], line 2\u001b[0m\n\u001b[0;32m      1\u001b[0m \u001b[38;5;28;01mtry\u001b[39;00m:\n\u001b[1;32m----> 2\u001b[0m     \u001b[43mcolors\u001b[49m[\u001b[38;5;241m0\u001b[39m] \u001b[38;5;241m=\u001b[39m \u001b[38;5;124m\"\u001b[39m\u001b[38;5;124myellow\u001b[39m\u001b[38;5;124m\"\u001b[39m \n\u001b[0;32m      3\u001b[0m \u001b[38;5;28;01mexcept\u001b[39;00m \u001b[38;5;167;01mTypeError\u001b[39;00m \u001b[38;5;28;01mas\u001b[39;00m e:\n\u001b[0;32m      4\u001b[0m     \u001b[38;5;28mprint\u001b[39m(\u001b[38;5;124m\"\u001b[39m\u001b[38;5;124mError:\u001b[39m\u001b[38;5;124m\"\u001b[39m, e)\n",
      "\u001b[1;31mNameError\u001b[0m: name 'colors' is not defined"
     ]
    }
   ],
   "source": [
    "try:\n",
    "    colors[0] = \"yellow\" \n",
    "except TypeError as e:\n",
    "    print(\"Error:\", e)"
   ]
  },
  {
   "cell_type": "code",
   "execution_count": 21,
   "id": "b7a757b4-8768-4e4d-8c7a-f181e7d00768",
   "metadata": {},
   "outputs": [
    {
     "name": "stdout",
     "output_type": "stream",
     "text": [
      "Updated colors tuple: ('red', 'green', 'blue', 'yellow')\n"
     ]
    }
   ],
   "source": [
    "color_list = list(colors)\n",
    "color_list.append(\"yellow\")\n",
    "colors = tuple(color_list)\n",
    "print(\"Updated colors tuple:\", colors)"
   ]
  },
  {
   "cell_type": "code",
   "execution_count": null,
   "id": "cdee1006-2aa9-43a1-9185-9566ad944e93",
   "metadata": {},
   "outputs": [],
   "source": []
  },
  {
   "cell_type": "markdown",
   "id": "c7e9dbae-01e0-4288-81b8-c10483d2010b",
   "metadata": {},
   "source": [
    "#SET"
   ]
  },
  {
   "cell_type": "code",
   "execution_count": 23,
   "id": "d5099653-6142-4ffe-a6dc-5c51c39b5943",
   "metadata": {},
   "outputs": [],
   "source": [
    "my_set = set()"
   ]
  },
  {
   "cell_type": "code",
   "execution_count": 24,
   "id": "f8871cb1-49af-4ec3-92c7-1289b801a316",
   "metadata": {},
   "outputs": [
    {
     "name": "stdout",
     "output_type": "stream",
     "text": [
      "my_set after adding items: {'banana', 'apple'}\n"
     ]
    }
   ],
   "source": [
    "my_set.add(\"apple\")\n",
    "my_set.add(\"banana\")\n",
    "print(\"my_set after adding items:\", my_set)"
   ]
  },
  {
   "cell_type": "code",
   "execution_count": 25,
   "id": "230fede4-fa17-41e1-a01a-b9a7ca0ea8c9",
   "metadata": {},
   "outputs": [
    {
     "name": "stdout",
     "output_type": "stream",
     "text": [
      "After adding duplicate 'apple': {'banana', 'apple'}\n"
     ]
    }
   ],
   "source": [
    "my_set.add(\"apple\")  # Trying to add duplicate\n",
    "print(\"After adding duplicate 'apple':\", my_set)"
   ]
  },
  {
   "cell_type": "code",
   "execution_count": 26,
   "id": "0e3516ba-aca2-400b-bc87-c07a93e9b02f",
   "metadata": {},
   "outputs": [],
   "source": [
    "set1 = {1, 2, 3}\n",
    "set2 = {3, 4, 5}"
   ]
  },
  {
   "cell_type": "code",
   "execution_count": 27,
   "id": "d9e45250-0093-4f8e-a6e1-d5f4974b6f76",
   "metadata": {},
   "outputs": [
    {
     "name": "stdout",
     "output_type": "stream",
     "text": [
      "Union: {1, 2, 3, 4, 5}\n",
      "Intersection: {3}\n"
     ]
    }
   ],
   "source": [
    "union_set = set1.union(set2)\n",
    "intersection_set = set1.intersection(set2)\n",
    "print(\"Union:\", union_set)\n",
    "print(\"Intersection:\", intersection_set)"
   ]
  },
  {
   "cell_type": "code",
   "execution_count": 28,
   "id": "2b6c162f-fead-46d7-acb1-8fba3df8f389",
   "metadata": {},
   "outputs": [
    {
     "name": "stdout",
     "output_type": "stream",
     "text": [
      "After discarding 'banana': {'apple'}\n"
     ]
    }
   ],
   "source": [
    "my_set.discard(\"banana\")\n",
    "print(\"After discarding 'banana':\", my_set)"
   ]
  },
  {
   "cell_type": "code",
   "execution_count": 29,
   "id": "8b8e34cf-7c94-4f02-a9d4-9afd6d414c37",
   "metadata": {},
   "outputs": [
    {
     "name": "stdout",
     "output_type": "stream",
     "text": [
      "Elements in my_set:\n",
      "apple\n"
     ]
    }
   ],
   "source": [
    "print(\"Elements in my_set:\")\n",
    "for item in my_set:\n",
    "    print(item)"
   ]
  },
  {
   "cell_type": "code",
   "execution_count": null,
   "id": "3c593002-2bfc-4a1e-9c4f-66cff0eabcfa",
   "metadata": {},
   "outputs": [],
   "source": []
  },
  {
   "cell_type": "markdown",
   "id": "c3b25426-ce1b-4089-82b6-2f5350b577ca",
   "metadata": {},
   "source": [
    "#Dictionary"
   ]
  },
  {
   "cell_type": "code",
   "execution_count": 35,
   "id": "ec6d7c1e-c230-4bb6-a168-39d0b6330014",
   "metadata": {},
   "outputs": [],
   "source": [
    "person = {\"name\": \"Ali\"}"
   ]
  },
  {
   "cell_type": "code",
   "execution_count": 37,
   "id": "d7e9e2be-8602-48a9-ba32-dec7ee26fecc",
   "metadata": {},
   "outputs": [
    {
     "name": "stdout",
     "output_type": "stream",
     "text": [
      "After adding age: {'name': 'Ali', 'age': 25}\n"
     ]
    }
   ],
   "source": [
    "person[\"age\"] = 25\n",
    "print(\"After adding age:\", person)"
   ]
  },
  {
   "cell_type": "code",
   "execution_count": 38,
   "id": "ca3470fb-ef50-4363-8808-c9cd25a58c41",
   "metadata": {},
   "outputs": [
    {
     "name": "stdout",
     "output_type": "stream",
     "text": [
      "After updating name: {'name': 'Ahmed', 'age': 25}\n"
     ]
    }
   ],
   "source": [
    "person[\"name\"] = \"Ahmed\"\n",
    "print(\"After updating name:\", person)\n"
   ]
  },
  {
   "cell_type": "code",
   "execution_count": 33,
   "id": "7b4c884c-bc2d-4665-8462-4b0a002b836e",
   "metadata": {},
   "outputs": [
    {
     "name": "stdout",
     "output_type": "stream",
     "text": [
      "Student Dictionary: {'name': 'Sara', 'grade': 'A', 'age': 17}\n"
     ]
    }
   ],
   "source": [
    "student = {\"name\": \"Sara\", \"grade\": \"A\", \"age\": 17}\n",
    "print(\"Student Dictionary:\", student)"
   ]
  },
  {
   "cell_type": "code",
   "execution_count": 39,
   "id": "da710af3-d4cf-4559-9353-77ee001064c5",
   "metadata": {},
   "outputs": [
    {
     "name": "stdout",
     "output_type": "stream",
     "text": [
      "Keys: dict_keys(['name', 'grade', 'age'])\n"
     ]
    }
   ],
   "source": [
    "print(\"Keys:\", student.keys())"
   ]
  },
  {
   "cell_type": "code",
   "execution_count": 40,
   "id": "45294ccf-a204-4d25-801f-f1f10ad5de72",
   "metadata": {},
   "outputs": [
    {
     "name": "stdout",
     "output_type": "stream",
     "text": [
      "Values: dict_values(['Sara', 'A', 17])\n"
     ]
    }
   ],
   "source": [
    "print(\"Values:\", student.values())"
   ]
  },
  {
   "cell_type": "code",
   "execution_count": 41,
   "id": "c9c004b8-fd54-4cfc-8e25-8ae75449ec2b",
   "metadata": {},
   "outputs": [
    {
     "name": "stdout",
     "output_type": "stream",
     "text": [
      "'grade' key exists in student dictionary.\n"
     ]
    }
   ],
   "source": [
    "if \"grade\" in student:\n",
    "    print(\"'grade' key exists in student dictionary.\")"
   ]
  },
  {
   "cell_type": "code",
   "execution_count": 42,
   "id": "7a95b917-d90d-404b-88d0-88ba9b968b59",
   "metadata": {},
   "outputs": [
    {
     "name": "stdout",
     "output_type": "stream",
     "text": [
      "Student info:\n",
      "name : Sara\n",
      "grade : A\n",
      "age : 17\n"
     ]
    }
   ],
   "source": [
    "print(\"Student info:\")\n",
    "for key, value in student.items():\n",
    "    print(key, \":\", value)"
   ]
  },
  {
   "cell_type": "code",
   "execution_count": null,
   "id": "36add081-ff24-417e-a313-d05fca2fc5e4",
   "metadata": {},
   "outputs": [],
   "source": []
  },
  {
   "cell_type": "markdown",
   "id": "a1dee767-e2a5-4575-9efc-f0be5dc052a1",
   "metadata": {},
   "source": [
    " #Elif"
   ]
  },
  {
   "cell_type": "code",
   "execution_count": 43,
   "id": "8947860f-ef64-4fc3-b3c1-859960e298cd",
   "metadata": {},
   "outputs": [],
   "source": [
    "numbers = [5, 10, 15, 20, 25]"
   ]
  },
  {
   "cell_type": "code",
   "execution_count": 44,
   "id": "16051f8a-6f1b-45ee-974f-78dbbd195b80",
   "metadata": {},
   "outputs": [
    {
     "name": "stdout",
     "output_type": "stream",
     "text": [
      "Found 10\n"
     ]
    }
   ],
   "source": [
    "if 10 in numbers:\n",
    "    print(\"Found 10\")\n",
    "else:\n",
    "    print(\"10 not found\")"
   ]
  },
  {
   "cell_type": "code",
   "execution_count": 45,
   "id": "d2fc9610-e4ab-4047-b0e7-f8dcfaaee045",
   "metadata": {},
   "outputs": [
    {
     "name": "stdout",
     "output_type": "stream",
     "text": [
      "Large number\n"
     ]
    }
   ],
   "source": [
    "if any(num > 20 for num in numbers):\n",
    "    print(\"Large number\")\n",
    "else:\n",
    "    print(\"Small number\")"
   ]
  },
  {
   "cell_type": "code",
   "execution_count": null,
   "id": "974d9006-160b-489a-a8ef-e24f3e4b1183",
   "metadata": {},
   "outputs": [],
   "source": []
  },
  {
   "cell_type": "markdown",
   "id": "646a7ab6-a432-4cb0-bebf-0019026d6e17",
   "metadata": {},
   "source": [
    "#Simple Expression"
   ]
  },
  {
   "cell_type": "code",
   "execution_count": 46,
   "id": "69a34cdc-9de7-4771-b301-c1370154bfaf",
   "metadata": {},
   "outputs": [
    {
     "name": "stdout",
     "output_type": "stream",
     "text": [
      "a + b = 15\n",
      "a * b = 50\n",
      "b - a = 5\n",
      "b / a = 2.0\n"
     ]
    }
   ],
   "source": [
    "a = 5\n",
    "b = 10\n",
    "\n",
    "print(\"a + b =\", a + b)\n",
    "print(\"a * b =\", a * b)\n",
    "print(\"b - a =\", b - a)\n",
    "print(\"b / a =\", b / a)"
   ]
  },
  {
   "cell_type": "code",
   "execution_count": 47,
   "id": "6f5a7239-3bfa-403c-b509-1bdaafee1f73",
   "metadata": {},
   "outputs": [
    {
     "name": "stdout",
     "output_type": "stream",
     "text": [
      "Result of (a + b) * 2 = 30\n"
     ]
    }
   ],
   "source": [
    "result = (a + b) * 2\n",
    "print(\"Result of (a + b) * 2 =\", result)"
   ]
  },
  {
   "cell_type": "code",
   "execution_count": 48,
   "id": "44c0b85c-560a-45f7-a773-1a14193f33da",
   "metadata": {},
   "outputs": [
    {
     "name": "stdin",
     "output_type": "stream",
     "text": [
      "Enter your age:  20\n"
     ]
    },
    {
     "name": "stdout",
     "output_type": "stream",
     "text": [
      "You are an adult\n"
     ]
    }
   ],
   "source": [
    "age = int(input(\"Enter your age: \"))\n",
    "\n",
    "if age >= 18:\n",
    "    print(\"You are an adult\")\n",
    "else:\n",
    "    print(\"You are a minor\")"
   ]
  },
  {
   "cell_type": "code",
   "execution_count": null,
   "id": "87dc91df-9e06-42d6-95c1-2f77439a5f23",
   "metadata": {},
   "outputs": [],
   "source": []
  },
  {
   "cell_type": "markdown",
   "id": "2f36eb33-1d90-4316-8a33-effbcd7d7970",
   "metadata": {},
   "source": [
    "#More expression"
   ]
  },
  {
   "cell_type": "code",
   "execution_count": 49,
   "id": "174c538e-76a4-41bd-b1fa-52a34d9e24aa",
   "metadata": {},
   "outputs": [
    {
     "name": "stdout",
     "output_type": "stream",
     "text": [
      "Area of the rectangle: 50\n"
     ]
    }
   ],
   "source": [
    "width = 5\n",
    "height = 10\n",
    "area = width * height\n",
    "print(\"Area of the rectangle:\", area)"
   ]
  },
  {
   "cell_type": "code",
   "execution_count": 50,
   "id": "57f635de-3dea-47e1-a6d8-ba0776372a5a",
   "metadata": {},
   "outputs": [
    {
     "name": "stdout",
     "output_type": "stream",
     "text": [
      "Temperature in Fahrenheit: 77.0\n"
     ]
    }
   ],
   "source": [
    "C = 25\n",
    "F = (C * 9/5) + 32\n",
    "print(\"Temperature in Fahrenheit:\", F)"
   ]
  },
  {
   "cell_type": "code",
   "execution_count": 51,
   "id": "3919ae64-2fe7-4cc2-ac03-fcc0cfe330bf",
   "metadata": {},
   "outputs": [
    {
     "name": "stdout",
     "output_type": "stream",
     "text": [
      "Simple Interest: 100.0\n"
     ]
    }
   ],
   "source": [
    "P = 1000  # Principal\n",
    "R = 5     # Rate of interest\n",
    "T = 2     # Time in years\n",
    "SI = (P * R * T) / 100\n",
    "print(\"Simple Interest:\", SI)"
   ]
  },
  {
   "cell_type": "code",
   "execution_count": null,
   "id": "24d255b3-a20b-4530-b4ff-07a286f14913",
   "metadata": {},
   "outputs": [],
   "source": []
  },
  {
   "cell_type": "markdown",
   "id": "007365f7-888e-4715-bf68-3b64dc7ea71a",
   "metadata": {},
   "source": [
    "#Range Function"
   ]
  },
  {
   "cell_type": "code",
   "execution_count": 52,
   "id": "75617513-fefe-4d51-b603-0f33bde7d9ac",
   "metadata": {},
   "outputs": [
    {
     "name": "stdout",
     "output_type": "stream",
     "text": [
      "0\n",
      "1\n",
      "2\n",
      "3\n",
      "4\n"
     ]
    }
   ],
   "source": [
    "for i in range(5):\n",
    "    print(i)"
   ]
  },
  {
   "cell_type": "code",
   "execution_count": 53,
   "id": "bfbaf8f8-cfaa-4171-9cf8-edad7c518157",
   "metadata": {},
   "outputs": [
    {
     "name": "stdout",
     "output_type": "stream",
     "text": [
      "1\n",
      "2\n",
      "3\n",
      "4\n",
      "5\n"
     ]
    }
   ],
   "source": [
    "for i in range(1, 6):\n",
    "    print(i)\n"
   ]
  },
  {
   "cell_type": "code",
   "execution_count": 55,
   "id": "9773e9b2-58e7-471c-9b1e-835ef4352cbc",
   "metadata": {},
   "outputs": [
    {
     "name": "stdout",
     "output_type": "stream",
     "text": [
      "Hello\n",
      "Hello\n",
      "Hello\n",
      "Hello\n",
      "Hello\n"
     ]
    }
   ],
   "source": [
    "for i in range(5):\n",
    "    print(\"Hello\")"
   ]
  },
  {
   "cell_type": "code",
   "execution_count": 56,
   "id": "f19721a1-029b-41dc-a7e2-1a28a45f033f",
   "metadata": {},
   "outputs": [
    {
     "name": "stdout",
     "output_type": "stream",
     "text": [
      "2\n",
      "4\n",
      "6\n",
      "8\n",
      "10\n"
     ]
    }
   ],
   "source": [
    "for i in range(2, 11, 2):\n",
    "    print(i)"
   ]
  },
  {
   "cell_type": "code",
   "execution_count": 57,
   "id": "ed55d413-b288-44db-a632-fda279fbbd47",
   "metadata": {},
   "outputs": [
    {
     "name": "stdout",
     "output_type": "stream",
     "text": [
      "10\n",
      "9\n",
      "8\n",
      "7\n",
      "6\n",
      "5\n",
      "4\n",
      "3\n",
      "2\n",
      "1\n"
     ]
    }
   ],
   "source": [
    "for i in range(10, 0, -1):\n",
    "    print(i)"
   ]
  },
  {
   "cell_type": "code",
   "execution_count": 58,
   "id": "a25f3049-c6f1-41fe-886a-e03ccbfaaf21",
   "metadata": {},
   "outputs": [
    {
     "name": "stdout",
     "output_type": "stream",
     "text": [
      "[3, 4, 5, 6, 7]\n"
     ]
    }
   ],
   "source": [
    "number_list = list(range(3, 8))\n",
    "print(number_list)\n"
   ]
  },
  {
   "cell_type": "code",
   "execution_count": 59,
   "id": "0f3c46b0-edf1-4a1f-a8e0-f6bece160d1f",
   "metadata": {},
   "outputs": [
    {
     "name": "stdout",
     "output_type": "stream",
     "text": [
      "Square of 1: 1\n",
      "Square of 2: 4\n",
      "Square of 3: 9\n",
      "Square of 4: 16\n",
      "Square of 5: 25\n"
     ]
    }
   ],
   "source": [
    "for i in range(1, 6):\n",
    "    print(f\"Square of {i}: {i ** 2}\")"
   ]
  },
  {
   "cell_type": "code",
   "execution_count": null,
   "id": "f16a0995-d035-463a-842f-31309eaea4e3",
   "metadata": {},
   "outputs": [],
   "source": []
  }
 ],
 "metadata": {
  "kernelspec": {
   "display_name": "Python 3 (ipykernel)",
   "language": "python",
   "name": "python3"
  },
  "language_info": {
   "codemirror_mode": {
    "name": "ipython",
    "version": 3
   },
   "file_extension": ".py",
   "mimetype": "text/x-python",
   "name": "python",
   "nbconvert_exporter": "python",
   "pygments_lexer": "ipython3",
   "version": "3.11.2"
  }
 },
 "nbformat": 4,
 "nbformat_minor": 5
}
