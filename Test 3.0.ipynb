{
 "cells": [
  {
   "cell_type": "markdown",
   "id": "0e593dc8-c8df-467f-a679-09f1d7feedb4",
   "metadata": {},
   "source": [
    "\n",
    "# PYTHON\n"
   ]
  },
  {
   "cell_type": "code",
   "execution_count": null,
   "id": "16d6c198-8ea8-4ec8-bc91-134b3b82fda8",
   "metadata": {},
   "outputs": [],
   "source": [
    "\n",
    "Write a Python program to check whether a number is even or odd using if-else.\n"
   ]
  },
  {
   "cell_type": "code",
   "execution_count": 1,
   "id": "1835f9ac-ac9f-45e9-b8f9-68afdb9315cf",
   "metadata": {},
   "outputs": [
    {
     "name": "stdin",
     "output_type": "stream",
     "text": [
      "Enter a number:  2\n"
     ]
    },
    {
     "name": "stdout",
     "output_type": "stream",
     "text": [
      "2 is even.\n"
     ]
    }
   ],
   "source": [
    "\n",
    "# Python program to check if a number is even or odd\n",
    "\n",
    "# Get input from the user\n",
    "number = int(input(\"Enter a number: \"))\n",
    "\n",
    "# Check if the number is even or odd using if-else\n",
    "if number % 2 == 0:\n",
    "    print(f\"{number} is even.\")\n",
    "else:\n",
    "    print(f\"{number} is odd.\")\n"
   ]
  },
  {
   "cell_type": "raw",
   "id": "0378b183-b99a-4f05-aaec-9be9e55dfad5",
   "metadata": {},
   "source": [
    "\n",
    "Write a for loop that prints numbers from 10 to 1 in reverse\n"
   ]
  },
  {
   "cell_type": "code",
   "execution_count": 2,
   "id": "76ed5049-fdfd-43ed-926e-3643fca35490",
   "metadata": {},
   "outputs": [
    {
     "name": "stdout",
     "output_type": "stream",
     "text": [
      "10\n",
      "9\n",
      "8\n",
      "7\n",
      "6\n",
      "5\n",
      "4\n",
      "3\n",
      "2\n",
      "1\n"
     ]
    }
   ],
   "source": [
    "\n",
    "# Print numbers from 10 to 1 in reverse using a for loop\n",
    "for i in range(10, 0, -1):\n",
    "    print(i)\n"
   ]
  },
  {
   "cell_type": "raw",
   "id": "2ecf3e19-feee-4834-b9ca-ea723e17799c",
   "metadata": {},
   "source": [
    "\n",
    "Write a while loop that keeps asking the user to input a number until they enter 0.\n"
   ]
  },
  {
   "cell_type": "code",
   "execution_count": 4,
   "id": "a9883640-2f87-4f94-a831-f7c7c8280576",
   "metadata": {},
   "outputs": [
    {
     "name": "stdin",
     "output_type": "stream",
     "text": [
      "Enter a number (0 to stop):  3\n"
     ]
    },
    {
     "name": "stdout",
     "output_type": "stream",
     "text": [
      "You entered: 3\n"
     ]
    },
    {
     "name": "stdin",
     "output_type": "stream",
     "text": [
      "Enter a number (0 to stop):  4\n"
     ]
    },
    {
     "name": "stdout",
     "output_type": "stream",
     "text": [
      "You entered: 4\n"
     ]
    },
    {
     "name": "stdin",
     "output_type": "stream",
     "text": [
      "Enter a number (0 to stop):  0\n"
     ]
    },
    {
     "name": "stdout",
     "output_type": "stream",
     "text": [
      "You entered: 0\n",
      "Loop ended. You entered 0.\n"
     ]
    }
   ],
   "source": [
    "\n",
    "# While loop that continues until the user enters 0\n",
    "number = None\n",
    "\n",
    "while number != 0:\n",
    "    number = int(input(\"Enter a number (0 to stop): \"))\n",
    "    print(f\"You entered: {number}\")\n",
    "\n",
    "print(\"Loop ended. You entered 0.\")\n"
   ]
  },
  {
   "cell_type": "raw",
   "id": "076b7a97-8e3f-47e5-ab0f-70fd8bd8be5b",
   "metadata": {},
   "source": [
    "\n",
    "Write a function that accepts two numbers and returns their sum.\n"
   ]
  },
  {
   "cell_type": "code",
   "execution_count": 5,
   "id": "04eb2ace-6b33-44f0-9776-3183ca89bfc7",
   "metadata": {},
   "outputs": [
    {
     "name": "stdout",
     "output_type": "stream",
     "text": [
      "The sum is: 12\n"
     ]
    }
   ],
   "source": [
    "\n",
    "# Function to return the sum of two numbers\n",
    "def add_numbers(a, b):\n",
    "    return a + b\n",
    "\n",
    "# Example usage\n",
    "result = add_numbers(5, 7)\n",
    "print(\"The sum is:\", result)\n",
    "\n"
   ]
  },
  {
   "cell_type": "raw",
   "id": "197b534b-8e1f-4aa0-9fb0-d1dfcdfd04cf",
   "metadata": {},
   "source": [
    "\n",
    "What will be the output of this code: print(list(map(lambda x: x*x, [1, 2, 3])))?\n"
   ]
  },
  {
   "cell_type": "code",
   "execution_count": 6,
   "id": "0ab2e071-8795-470d-aca2-2aaf0f0e41ef",
   "metadata": {},
   "outputs": [
    {
     "name": "stdout",
     "output_type": "stream",
     "text": [
      "[1, 4, 9]\n"
     ]
    }
   ],
   "source": [
    "\n",
    "print(list(map(lambda x: x*x, [1, 2, 3])))\n"
   ]
  },
  {
   "cell_type": "code",
   "execution_count": 7,
   "id": "cf4124f2-6826-44b7-9ddf-e91e546bcb2e",
   "metadata": {},
   "outputs": [
    {
     "name": "stdout",
     "output_type": "stream",
     "text": [
      "Even numbers: [2, 4, 6, 8, 10]\n"
     ]
    }
   ],
   "source": [
    "\n",
    "# Sample list of numbers\n",
    "numbers = [1, 2, 3, 4, 5, 6, 7, 8, 9, 10]\n",
    "\n",
    "# Use filter to get even numbers\n",
    "even_numbers = list(filter(lambda x: x % 2 == 0, numbers))\n",
    "\n",
    "# Print the result\n",
    "print(\"Even numbers:\", even_numbers)\n"
   ]
  },
  {
   "cell_type": "code",
   "execution_count": null,
   "id": "1fb84581-5469-418f-b064-c32f75f0b067",
   "metadata": {},
   "outputs": [],
   "source": [
    "\n",
    "Explain the purpose of the else block in a try-except-else construct.\n"
   ]
  },
  {
   "cell_type": "code",
   "execution_count": null,
   "id": "1855bcba-46ba-447d-b820-a1e69ea77261",
   "metadata": {},
   "outputs": [],
   "source": [
    "\n",
    "try:\n",
    "    # Code that might raise an exception\n",
    "except SomeException:\n",
    "    # Code that runs if an exception occurs\n",
    "else:\n",
    "    # Code that runs if no exception occurs\n"
   ]
  },
  {
   "cell_type": "raw",
   "id": "aa4a8bc7-a55b-466c-ab44-523ec7c9d9ff",
   "metadata": {},
   "source": [
    "\n",
    "Write a try-except block to handle division by zero.\n"
   ]
  },
  {
   "cell_type": "code",
   "execution_count": 10,
   "id": "bfe8f441-1964-4c57-ba21-5beac8a599e7",
   "metadata": {},
   "outputs": [
    {
     "name": "stdin",
     "output_type": "stream",
     "text": [
      "Enter the numerator:  3\n",
      "Enter the denominator:  5\n"
     ]
    },
    {
     "name": "stdout",
     "output_type": "stream",
     "text": [
      "Result: 0.6\n"
     ]
    }
   ],
   "source": [
    "\n",
    "# Try-except block to handle division by zero\n",
    "try:\n",
    "    numerator = int(input(\"Enter the numerator: \"))\n",
    "    denominator = int(input(\"Enter the denominator: \"))\n",
    "    result = numerator / denominator\n",
    "    print(\"Result:\", result)\n",
    "except ZeroDivisionError:\n",
    "    print(\"Error: Division by zero is not allowed.\")\n"
   ]
  },
  {
   "cell_type": "raw",
   "id": "a175c74a-6326-47db-b448-934566a3abbb",
   "metadata": {},
   "source": [
    "\n",
    "What is the output of this lambda function? print((lambda x, y: x+y)(5, 3))\n"
   ]
  },
  {
   "cell_type": "code",
   "execution_count": 11,
   "id": "23c4112a-ced3-4699-8076-0da9bae2bb8d",
   "metadata": {},
   "outputs": [
    {
     "name": "stdout",
     "output_type": "stream",
     "text": [
      "8\n"
     ]
    }
   ],
   "source": [
    "\n",
    "print((lambda x, y: x + y)(5, 3))\n"
   ]
  },
  {
   "cell_type": "raw",
   "id": "2ce6b5d3-921f-4960-ba2f-95937d23aed7",
   "metadata": {},
   "source": [
    "\n",
    "Define a class named Dog with properties name and breed. Add a method bark().\n"
   ]
  },
  {
   "cell_type": "code",
   "execution_count": 12,
   "id": "0d29a6cc-4838-4398-94e3-e3eacb4abdc4",
   "metadata": {},
   "outputs": [
    {
     "name": "stdout",
     "output_type": "stream",
     "text": [
      "My dog's name is Buddy and breed is Golden Retriever.\n",
      "Buddy says: Woof!\n"
     ]
    }
   ],
   "source": [
    "\n",
    "# Define the Dog class\n",
    "class Dog:\n",
    "    def __init__(self, name, breed):\n",
    "        self.name = name\n",
    "        self.breed = breed\n",
    "\n",
    "    def bark(self):\n",
    "        print(f\"{self.name} says: Woof!\")\n",
    "\n",
    "# Example usage\n",
    "my_dog = Dog(\"Buddy\", \"Golden Retriever\")\n",
    "print(f\"My dog's name is {my_dog.name} and breed is {my_dog.breed}.\")\n",
    "my_dog.bark()\n"
   ]
  },
  {
   "cell_type": "raw",
   "id": "5bf45f77-f087-44ce-a869-741bd5ac9bc5",
   "metadata": {},
   "source": [
    "\n",
    "Create two objects of the Dog class and call their methods.\n"
   ]
  },
  {
   "cell_type": "code",
   "execution_count": 13,
   "id": "4c63d997-23c3-41d0-956e-b6e8e3937475",
   "metadata": {},
   "outputs": [
    {
     "name": "stdout",
     "output_type": "stream",
     "text": [
      "Dog 1: Max, Breed: Labrador\n",
      "Max says: Woof!\n",
      "Dog 2: Bella, Breed: German Shepherd\n",
      "Bella says: Woof!\n"
     ]
    }
   ],
   "source": [
    "\n",
    "class Dog:\n",
    "    def __init__(self, name, breed):\n",
    "        self.name = name\n",
    "        self.breed = breed\n",
    "\n",
    "    def bark(self):\n",
    "        print(f\"{self.name} says: Woof!\")\n",
    "\n",
    "# Create two Dog objects\n",
    "dog1 = Dog(\"Max\", \"Labrador\")\n",
    "dog2 = Dog(\"Bella\", \"German Shepherd\")\n",
    "\n",
    "print(f\"Dog 1: {dog1.name}, Breed: {dog1.breed}\")\n",
    "dog1.bark()\n",
    "\n",
    "print(f\"Dog 2: {dog2.name}, Breed: {dog2.breed}\")\n",
    "dog2.bark()\n"
   ]
  },
  {
   "cell_type": "raw",
   "id": "93afaed3-a223-462e-8fc6-81e3f43925f9",
   "metadata": {},
   "source": [
    "\n",
    "What is the difference between class variables and instance variables?\n"
   ]
  },
  {
   "cell_type": "code",
   "execution_count": 14,
   "id": "8f11867a-11be-4580-bbcc-0459fc5fab08",
   "metadata": {},
   "outputs": [
    {
     "name": "stdout",
     "output_type": "stream",
     "text": [
      "Canis familiaris\n",
      "Canis familiaris\n",
      "Canis familiaris\n"
     ]
    }
   ],
   "source": [
    "\n",
    "class Dog:\n",
    "    species = \"Canis familiaris\"  \n",
    "\n",
    "    def __init__(self, name, breed):\n",
    "        self.name = name  \n",
    "        self.breed = breed  \n",
    "\n",
    "# Create two Dog objects\n",
    "dog1 = Dog(\"Buddy\", \"Golden Retriever\")\n",
    "dog2 = Dog(\"Max\", \"Labrador\")\n",
    "\n",
    "# Accessing class variable via class name and instance\n",
    "print(Dog.species)  \n",
    "print(dog1.species)  \n",
    "print(dog2.species)  \n"
   ]
  },
  {
   "cell_type": "raw",
   "id": "1dfba96a-210b-4199-92a3-19064052b5b6",
   "metadata": {},
   "source": [
    "\n",
    "What will this print: print(\"apple\" if 5 > 3 else \"banana\")?\n"
   ]
  },
  {
   "cell_type": "code",
   "execution_count": 15,
   "id": "ebb188a9-241d-4b42-8c9a-6b33842f1569",
   "metadata": {},
   "outputs": [
    {
     "name": "stdout",
     "output_type": "stream",
     "text": [
      "apple\n"
     ]
    }
   ],
   "source": [
    "\n",
    "print(\"apple\" if 5 > 3 else \"banana\")\n"
   ]
  },
  {
   "cell_type": "raw",
   "id": "e54e3886-4ce1-40e6-bbc4-d9513a8c4637",
   "metadata": {},
   "source": [
    "\n",
    " a function that accepts a list and returns the list of squares using list comprehension.Write]\n"
   ]
  },
  {
   "cell_type": "code",
   "execution_count": 17,
   "id": "04722785-8007-4937-8e4d-ac9f79f5bf85",
   "metadata": {},
   "outputs": [
    {
     "name": "stdout",
     "output_type": "stream",
     "text": [
      "[1, 4, 9, 16, 25]\n"
     ]
    }
   ],
   "source": [
    "\n",
    "\n",
    "def square_list(numbers):\n",
    "    return [x**2 for x in numbers]\n",
    "\n",
    "# Example usage\n",
    "numbers = [1, 2, 3, 4, 5]\n",
    "squared_numbers = square_list(numbers)\n",
    "print(squared_numbers)  \n"
   ]
  },
  {
   "cell_type": "raw",
   "id": "5b60b507-c092-4dc6-ad84-d5da5e4438a8",
   "metadata": {},
   "source": [
    "\n",
    "Explain what map() and filter() return when executed.\n"
   ]
  },
  {
   "cell_type": "code",
   "execution_count": null,
   "id": "b120c3df-2ec9-44f7-a52e-d10401466076",
   "metadata": {},
   "outputs": [],
   "source": [
    "\n",
    "map(function, iterable)\n"
   ]
  },
  {
   "cell_type": "code",
   "execution_count": 20,
   "id": "c0859c60-cc5a-45cc-bade-aa2c4d25b8c7",
   "metadata": {},
   "outputs": [
    {
     "name": "stdout",
     "output_type": "stream",
     "text": [
      "[1, 4, 9, 16, 25]\n"
     ]
    }
   ],
   "source": [
    "\n",
    "numbers = [1, 2, 3, 4, 5]\n",
    "result = map(lambda x: x**2, numbers)\n",
    "\n",
    "# Convert map object to list to see the result\n",
    "print(list(result))  \n"
   ]
  },
  {
   "cell_type": "markdown",
   "id": "df4a56ff-317e-4731-b052-7c0c6242e67e",
   "metadata": {},
   "source": [
    "\n",
    "# NUMPY\n"
   ]
  },
  {
   "cell_type": "raw",
   "id": "5887a9a0-4429-43a7-b041-417dc7e9b9fc",
   "metadata": {},
   "source": [
    "\n",
    "Create a 3x3 matrix using np.random.randint(0, 10, (3, 3)).\n"
   ]
  },
  {
   "cell_type": "code",
   "execution_count": 21,
   "id": "de61127c-0930-4e79-947d-3192c39c1979",
   "metadata": {},
   "outputs": [
    {
     "data": {
      "text/plain": [
       "[[2, 9, 3], [5, 8, 4], [3, 7, 9]]"
      ]
     },
     "execution_count": 21,
     "metadata": {},
     "output_type": "execute_result"
    }
   ],
   "source": [
    "\n",
    "[[2, 9, 3],\n",
    " [5, 8, 4],\n",
    " [3, 7, 9]]\n"
   ]
  },
  {
   "cell_type": "raw",
   "id": "f853ffcd-744a-45f4-a6c1-f8891922b1a8",
   "metadata": {},
   "source": [
    "\n",
    "Slice the above matrix to extract the first two rows.\n"
   ]
  },
  {
   "cell_type": "code",
   "execution_count": 22,
   "id": "8320cd97-2440-4734-8303-df8387b32972",
   "metadata": {},
   "outputs": [
    {
     "data": {
      "text/plain": [
       "[[2, 0, 8], [5, 1, 8]]"
      ]
     },
     "execution_count": 22,
     "metadata": {},
     "output_type": "execute_result"
    }
   ],
   "source": [
    "\n",
    "[[2, 0, 8],\n",
    " [5, 1, 8]]\n",
    "\n"
   ]
  },
  {
   "cell_type": "code",
   "execution_count": null,
   "id": "ad34722d-2952-47b4-bc43-037d5fd2ce53",
   "metadata": {},
   "outputs": [],
   "source": [
    "\n",
    "Combine two 3x3 matrices using np.concatenate along axis 0 and axis 1.\n"
   ]
  },
  {
   "cell_type": "code",
   "execution_count": 23,
   "id": "359bd2b7-e5c1-479f-ac47-7fa28893ece3",
   "metadata": {},
   "outputs": [
    {
     "name": "stdout",
     "output_type": "stream",
     "text": [
      "Concatenated along axis 0 (vertically):\n",
      "[[4 3 6]\n",
      " [7 0 7]\n",
      " [4 7 5]\n",
      " [9 1 5]\n",
      " [7 5 6]\n",
      " [8 7 8]]\n",
      "Concatenated along axis 1 (horizontally):\n",
      "[[4 3 6 9 1 5]\n",
      " [7 0 7 7 5 6]\n",
      " [4 7 5 8 7 8]]\n"
     ]
    }
   ],
   "source": [
    "\n",
    "import numpy as np\n",
    "\n",
    "# Create two 3x3 matrices\n",
    "matrix1 = np.random.randint(0, 10, (3, 3))\n",
    "matrix2 = np.random.randint(0, 10, (3, 3))\n",
    "\n",
    "# Concatenate along axis 0 (vertically)\n",
    "concat_axis0 = np.concatenate((matrix1, matrix2), axis=0)\n",
    "\n",
    "# Concatenate along axis 1 (horizontally)\n",
    "concat_axis1 = np.concatenate((matrix1, matrix2), axis=1)\n",
    "\n",
    "print(\"Concatenated along axis 0 (vertically):\")\n",
    "print(concat_axis0)\n",
    "\n",
    "print(\"Concatenated along axis 1 (horizontally):\")\n",
    "print(concat_axis1)\n"
   ]
  },
  {
   "cell_type": "raw",
   "id": "7bfab852-5e0e-4564-a702-462056b9b412",
   "metadata": {},
   "source": [
    "\n",
    "Perform element-wise addition, subtraction, and multiplication of two matrices.\n"
   ]
  },
  {
   "cell_type": "code",
   "execution_count": 24,
   "id": "fc04715f-2491-497c-a05a-504b9907b5d1",
   "metadata": {},
   "outputs": [
    {
     "name": "stdout",
     "output_type": "stream",
     "text": [
      "Matrix 1:\n",
      "[[0 7 9]\n",
      " [5 0 7]\n",
      " [2 0 0]]\n",
      "\n",
      "Matrix 2:\n",
      "[[2 6 8]\n",
      " [2 3 3]\n",
      " [2 1 4]]\n",
      "\n",
      "Element-wise Addition:\n",
      "[[ 2 13 17]\n",
      " [ 7  3 10]\n",
      " [ 4  1  4]]\n",
      "\n",
      "Element-wise Subtraction:\n",
      "[[-2  1  1]\n",
      " [ 3 -3  4]\n",
      " [ 0 -1 -4]]\n",
      "\n",
      "Element-wise Multiplication:\n",
      "[[ 0 42 72]\n",
      " [10  0 21]\n",
      " [ 4  0  0]]\n"
     ]
    }
   ],
   "source": [
    "\n",
    "import numpy as np\n",
    "\n",
    "# Create two 3x3 matrices\n",
    "matrix1 = np.random.randint(0, 10, (3, 3))\n",
    "matrix2 = np.random.randint(0, 10, (3, 3))\n",
    "\n",
    "# Element-wise addition\n",
    "addition_result = matrix1 + matrix2\n",
    "\n",
    "# Element-wise subtraction\n",
    "subtraction_result = matrix1 - matrix2\n",
    "\n",
    "# Element-wise multiplication\n",
    "multiplication_result = matrix1 * matrix2\n",
    "\n",
    "# Print results\n",
    "print(\"Matrix 1:\")\n",
    "print(matrix1)\n",
    "print(\"\\nMatrix 2:\")\n",
    "print(matrix2)\n",
    "\n",
    "print(\"\\nElement-wise Addition:\")\n",
    "print(addition_result)\n",
    "\n",
    "print(\"\\nElement-wise Subtraction:\")\n",
    "print(subtraction_result)\n",
    "\n",
    "print(\"\\nElement-wise Multiplication:\")\n",
    "print(multiplication_result)\n",
    "\n"
   ]
  },
  {
   "cell_type": "code",
   "execution_count": null,
   "id": "a659bbab-7337-4dd0-ae8d-c76ad7a4aa10",
   "metadata": {},
   "outputs": [],
   "source": [
    "\n",
    "Demonstrate broadcasting by adding a 1D array to a 2D array.\n"
   ]
  },
  {
   "cell_type": "code",
   "execution_count": 25,
   "id": "14c5ddbc-8e08-435d-8ea9-96fa6917b5c1",
   "metadata": {},
   "outputs": [
    {
     "name": "stdout",
     "output_type": "stream",
     "text": [
      "2D Array:\n",
      "[[8 4 6]\n",
      " [7 6 7]\n",
      " [5 8 2]]\n",
      "\n",
      "1D Array:\n",
      "[1 2 3]\n",
      "\n",
      "Result after broadcasting and addition:\n",
      "[[ 9  6  9]\n",
      " [ 8  8 10]\n",
      " [ 6 10  5]]\n"
     ]
    }
   ],
   "source": [
    "\n",
    "import numpy as np\n",
    "\n",
    "# Create a 2D array (3x3)\n",
    "array_2d = np.random.randint(0, 10, (3, 3))\n",
    "\n",
    "# Create a 1D array (size 3)\n",
    "array_1d = np.array([1, 2, 3])\n",
    "\n",
    "# Add the 1D array to the 2D array using broadcasting\n",
    "result = array_2d + array_1d\n",
    "\n",
    "print(\"2D Array:\")\n",
    "print(array_2d)\n",
    "\n",
    "print(\"\\n1D Array:\")\n",
    "print(array_1d)\n",
    "\n",
    "print(\"\\nResult after broadcasting and addition:\")\n",
    "print(result)\n",
    "\n"
   ]
  },
  {
   "cell_type": "raw",
   "id": "bd9faef6-1485-4617-b935-7cf60267e0c1",
   "metadata": {},
   "source": [
    "\n",
    "Use np.clip to limit values in a matrix to a minimum of 2 and maximum of 8\n"
   ]
  },
  {
   "cell_type": "code",
   "execution_count": 26,
   "id": "874d765a-c9c8-4215-90c9-87daafda3711",
   "metadata": {},
   "outputs": [
    {
     "name": "stdout",
     "output_type": "stream",
     "text": [
      "Original Matrix:\n",
      "[[6 8 5]\n",
      " [1 4 2]\n",
      " [9 2 9]]\n",
      "\n",
      "Clipped Matrix (values between 2 and 8):\n",
      "[[6 8 5]\n",
      " [2 4 2]\n",
      " [8 2 8]]\n"
     ]
    }
   ],
   "source": [
    "\n",
    "import numpy as np\n",
    "\n",
    "# Create a 3x3 matrix with random integers\n",
    "matrix = np.random.randint(0, 10, (3, 3))\n",
    "\n",
    "# Use np.clip to limit the values between 2 and 8\n",
    "clipped_matrix = np.clip(matrix, 2, 8)\n",
    "\n",
    "print(\"Original Matrix:\")\n",
    "print(matrix)\n",
    "\n",
    "print(\"\\nClipped Matrix (values between 2 and 8):\")\n",
    "print(clipped_matrix)\n"
   ]
  },
  {
   "cell_type": "raw",
   "id": "a70439a1-eeab-4725-939c-f621683f9f3b",
   "metadata": {},
   "source": [
    "\n",
    "Use np.ceil on an array of floating-point numbers [1.2, 2.5, 3.8].\n"
   ]
  },
  {
   "cell_type": "code",
   "execution_count": 27,
   "id": "b9f05c04-56df-4816-babf-f5811e53d59d",
   "metadata": {},
   "outputs": [
    {
     "name": "stdout",
     "output_type": "stream",
     "text": [
      "Ceiled Array: [2. 3. 4.]\n"
     ]
    }
   ],
   "source": [
    "\n",
    "import numpy as np\n",
    "\n",
    "# Create an array of floating-point numbers\n",
    "array = np.array([1.2, 2.5, 3.8])\n",
    "\n",
    "# Use np.ceil to round up the values to the nearest integer\n",
    "ceiled_array = np.ceil(array)\n",
    "\n",
    "print(\"Ceiled Array:\", ceiled_array)\n"
   ]
  },
  {
   "cell_type": "raw",
   "id": "fb5f5746-cdc4-49f4-9717-fc9caa231805",
   "metadata": {},
   "source": [
    "\n",
    "Use np.where to replace all elements greater than 5 with 100 in a given array.\n"
   ]
  },
  {
   "cell_type": "code",
   "execution_count": 28,
   "id": "01ccd72e-245c-4dbf-aa1f-4d37637aad93",
   "metadata": {},
   "outputs": [
    {
     "name": "stdout",
     "output_type": "stream",
     "text": [
      "Original Array:\n",
      "[[4 6 6]\n",
      " [4 9 3]\n",
      " [1 8 8]]\n",
      "\n",
      "Modified Array (elements greater than 5 replaced with 100):\n",
      "[[  4 100 100]\n",
      " [  4 100   3]\n",
      " [  1 100 100]]\n"
     ]
    }
   ],
   "source": [
    "\n",
    "import numpy as np\n",
    "\n",
    "# Create an array with random integers\n",
    "array = np.random.randint(0, 10, (3, 3))\n",
    "\n",
    "# Use np.where to replace all elements greater than 5 with 100\n",
    "modified_array = np.where(array > 5, 100, array)\n",
    "\n",
    "print(\"Original Array:\")\n",
    "print(array)\n",
    "\n",
    "print(\"\\nModified Array (elements greater than 5 replaced with 100):\")\n",
    "print(modified_array)\n"
   ]
  },
  {
   "cell_type": "raw",
   "id": "7442da70-1f23-4e5d-a23c-aa28b07b9bef",
   "metadata": {},
   "source": [
    "\n",
    "Create two 2x2 matrices and compute their dot product.\n"
   ]
  },
  {
   "cell_type": "code",
   "execution_count": null,
   "id": "9b01d7a8-c0fe-459a-85c6-41c9fde50452",
   "metadata": {},
   "outputs": [],
   "source": [
    "\n"
   ]
  }
 ],
 "metadata": {
  "kernelspec": {
   "display_name": "Python 3 (ipykernel)",
   "language": "python",
   "name": "python3"
  },
  "language_info": {
   "codemirror_mode": {
    "name": "ipython",
    "version": 3
   },
   "file_extension": ".py",
   "mimetype": "text/x-python",
   "name": "python",
   "nbconvert_exporter": "python",
   "pygments_lexer": "ipython3",
   "version": "3.12.7"
  }
 },
 "nbformat": 4,
 "nbformat_minor": 5
}
